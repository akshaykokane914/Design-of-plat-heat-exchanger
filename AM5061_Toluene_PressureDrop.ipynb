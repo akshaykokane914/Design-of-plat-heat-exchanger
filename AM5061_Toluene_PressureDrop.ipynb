{
 "cells": [
  {
   "cell_type": "code",
   "execution_count": 1,
   "metadata": {},
   "outputs": [],
   "source": [
    "def cool(ref1,ref2,mf1,mf2,out,in1,valin1,in2,valin2):\n",
    "    import CoolProp.CoolProp as CP\n",
    "    from CoolProp.CoolProp import PropsSI\n",
    "    if ref2==0:\n",
    "        k='HEOS::'+ref1\n",
    "        g=CP.PropsSI(out,in1,valin1,in2,valin2,k)\n",
    "        return g\n",
    "    else:\n",
    "        a=ref1+'&'+ref2\n",
    "        b=CP.AbstractState('HEOS',a);b.set_mass_fractions([mf1,mf2])\n",
    "        c=b.get_mole_fractions()\n",
    "        k='HEOS::'+ref1+'['+'{}'.format(c[0])+']&'+ref2+'['+'{}'.format(c[1])+']'\n",
    "        g=CP.PropsSI(out,in1,valin1,in2,valin2,k)\n",
    "        return g"
   ]
  },
  {
   "cell_type": "code",
   "execution_count": 2,
   "metadata": {},
   "outputs": [
    {
     "name": "stdout",
     "output_type": "stream",
     "text": [
      "mt 23.045947962680646\n",
      "mw 42.0638054085617\n"
     ]
    }
   ],
   "source": [
    "import CoolProp.CoolProp as CP\n",
    "import matplotlib.pyplot as plt\n",
    "import pandas as pd\n",
    "import math\n",
    "import numpy as np\n",
    "from CoolProp.CoolProp import PropsSI\n",
    "#input data\n",
    "T1=543;T7=T8=463;P4=45000;T13=298;T11=T7+30;B=60;b=0.0022;pco=0.01325;we=0.55;g=9.81\n",
    "#EXHAUST INPUTS\n",
    "T9=587;mex=105.5;cex=1048.2;dex=0.59508;hex=593967;vex=.000030132;kex=0.045794\n",
    "#MATERIAL PROPERTIES\n",
    "t=0.0005;k=17\n",
    "#COMMAN PARAMETER\n",
    "X=(b*math.pi)/pco\n",
    "si=(1/6)*(1+((1+X**2)**0.5)+4*(1+((X**2)/2))**0.5)\n",
    "dh=(2*b)/si\n",
    "deq=2*b\n",
    "Gex=(mex)/(b*we)\n",
    "\n",
    "\n",
    "\n",
    "#REQUIRED COMMAN PROPERTIES OF EVAPORATOR\n",
    "P8=cool('Toluene',0,0,0,'P','T',T8,'Q',1)\n",
    "cge=cool('Toluene',0,0,0,'C','T',T8,'Q',1)\n",
    "cle=cool('Toluene',0,0,0,'C','T',T8,'Q',0)\n",
    "kle=cool('Toluene',0,0,0,'L','T',T8,'Q',0)\n",
    "kge=cool('Toluene',0,0,0,'L','T',T8,'Q',1)\n",
    "vge=cool('Toluene',0,0,0,'V','T',T8,'Q',1)\n",
    "vle=cool('Toluene',0,0,0,'V','T',T8,'Q',0)\n",
    "prle=cool('Toluene',0,0,0,'Prandtl','T',T8,'Q',0)\n",
    "prge=cool('Toluene',0,0,0,'Prandtl','T',T8,'Q',1)\n",
    "dle=cool('Toluene',0,0,0,'D','T',T8,'Q',0)\n",
    "dge=cool('Toluene',0,0,0,'D','T',T8,'Q',1)\n",
    "s_tension=cool('Toluene',0,0,0,'I','T',T8,'Q',1)\n",
    "hge=cool('Toluene',0,0,0,'H','T',T8,'Q',1)\n",
    "hle=cool('Toluene',0,0,0,'H','T',T8,'Q',0)\n",
    "STle=cool('Toluene',0,0,0,'I','T',T8,'Q',0)\n",
    "STge=cool('Toluene',0,0,0,'I','T',T8,'Q',1)\n",
    "LHE=hge-hle\n",
    "\n",
    "#REQUIRED COMMAN PROPERTIES OF CONDENSER\n",
    "cgc=cool('Toluene',0,0,0,'C','P',P4,'Q',1)\n",
    "clc=cool('Toluene',0,0,0,'C','P',P4,'Q',0)\n",
    "klc=cool('Toluene',0,0,0,'L','P',P4,'Q',0)\n",
    "vgc=cool('Toluene',0,0,0,'V','P',P4,'Q',1)\n",
    "vlc=cool('Toluene',0,0,0,'V','P',P4,'Q',0)\n",
    "prlc=cool('Toluene',0,0,0,'Prandtl','P',P4,'Q',0)\n",
    "dlc=cool('Toluene',0,0,0,'D','P',P4,'Q',0)\n",
    "dgc=cool('Toluene',0,0,0,'D','P',P4,'Q',1)\n",
    "hgc=cool('Toluene',0,0,0,'H','P',P4,'Q',1)\n",
    "hlc=cool('Toluene',0,0,0,'H','P',P4,'Q',0)\n",
    "LHC=hgc-hlc\n",
    "STlc=cool('Toluene',0,0,0,'I','P',P4,'Q',0)\n",
    "STgc=cool('Toluene',0,0,0,'I','P',P4,'Q',1)\n",
    "\n",
    "#REQUIRED COMMAN PROPERTIES OF WATER\n",
    "cw=cool('water',0,0,0,'C','P',101325,'T',T13)\n",
    "kw=cool('water',0,0,0,'L','P',101325,'T',T13)\n",
    "vw=cool('Toluene',0,0,0,'V','P',101325,'T',T13)\n",
    "prw=cool('Toluene',0,0,0,'Prandtl','P',101325,'T',298)\n",
    "\n",
    "#UNKNOWN TEMPRETURS ,PRESSURE & OTHER PROPERTIES\n",
    "T4=cool('Toluene',0,0,0,'T','P',P4,'Q',0);T3=T4\n",
    "T14=T3-10\n",
    "\n",
    "P7=cool('Toluene',0,0,0,'P','T',T7,'Q',0)\n",
    "S1=cool('Toluene',0,0,0,'S','T',T1,'P',P7)\n",
    "S2=S1\n",
    "P2=P4\n",
    "T2=cool('Toluene',0,0,0,'T','S',S1,'P',P2)\n",
    "win=(1/dlc)*(P7-P4)\n",
    "h5=hlc+win\n",
    "T5=cool('Toluene',0,0,0,'T','H',h5,'P',P7)\n",
    "T6=T5+(cge/cle)*(T2-T3)\n",
    "\n",
    "\n",
    "#mass flow rate of touelene\n",
    "mt=(mex*cex*(T9-T11))/(cge*(T1-T8)+LHE)\n",
    "print('mt',mt)\n",
    "T12=T11-((mt*cle)/(mex*cex))*(T7-T6)\n",
    "T10=((mt*LHE)/(mex*cex))+T11\n",
    "#MASS FLOW RATE OF WATER\n",
    "mw=(mt*LHC)/(cw*(T14-T13))\n",
    "print('mw',mw)\n",
    "\n",
    "\n",
    "#EQUIVALENT PROPERTIES FOR CONDENSER\n",
    "x=0\n",
    "for x in [np.arange(x,1,0.05)]:\n",
    "    G=(mt)/(b*we)\n",
    "    Geqc=G*((1-x)+x*((dlc/dgc)**0.5))\n",
    "    Reeqc=(Geqc*dh)/vlc\n",
    "\n",
    "#EQUIVALENT PROPERTIES OF EVAPORATER\n",
    "    Geqe=G*((1-x)+x*((dle/dge)**0.5))\n",
    "    Reeqe=(Geqe*dh)/vle\n"
   ]
  },
  {
   "cell_type": "code",
   "execution_count": 3,
   "metadata": {},
   "outputs": [
    {
     "name": "stdout",
     "output_type": "stream",
     "text": [
      "vle/vge 13.937755199416365\n",
      "vlc/vgc 37.07989346299038\n"
     ]
    }
   ],
   "source": [
    "print(\"vle/vge\",vle/vge) # <1000...hence use friedel pr. drop for evaporator\n",
    "\n",
    "print(\"vlc/vgc\",vlc/vgc) #<1000...hence use friedel pr. drop for condenser"
   ]
  },
  {
   "cell_type": "code",
   "execution_count": 4,
   "metadata": {},
   "outputs": [
    {
     "name": "stdout",
     "output_type": "stream",
     "text": [
      "     quality           del_P\n",
      "0         0.00           inf\n",
      "1         0.05  2.678539e+06\n",
      "2         0.10  7.771475e+05\n",
      "3         0.15  3.581531e+05\n",
      "4         0.20  2.023148e+05\n",
      "5         0.25  1.281929e+05\n",
      "6         0.30  8.738455e+04\n",
      "7         0.35  6.259690e+04\n",
      "8         0.40  4.642273e+04\n",
      "9         0.45  3.526393e+04\n",
      "10        0.50  2.720034e+04\n",
      "11        0.55  2.112642e+04\n",
      "12        0.60  1.636027e+04\n",
      "13        0.65  1.244811e+04\n",
      "14        0.70  9.053371e+03\n",
      "15        0.75  5.876168e+03\n",
      "16        0.80  2.557558e+03\n",
      "17        0.85 -1.531476e+03\n",
      "18        0.90 -8.069335e+03\n",
      "19        0.95 -2.516263e+04\n",
      "623814.8064783412 598652.1730378986 460.7968009382373\n"
     ]
    },
    {
     "name": "stderr",
     "output_type": "stream",
     "text": [
      "<ipython-input-4-27dbab1571ae>:25: RuntimeWarning: divide by zero encountered in true_divide\n",
      "  del_Pm=mtv*mtv*((1/(dge*VF))-(1/(dle*(1-VF))))\n"
     ]
    }
   ],
   "source": [
    "#Evaporator pressure drop\n",
    "\n",
    "x=0\n",
    "for x in [np.arange(x,1,0.05)]:\n",
    "    #mtv=mt*(dle+dge)\n",
    "    #Friction\n",
    "    rho_h=((x/dge)+((1-x)/dle))**(-1)\n",
    "    mtv=mt*rho_h\n",
    "    #print(mtv,mt*rho_h)\n",
    "    WeL=(mtv**2)*dh/(rho_h*STle)\n",
    "    H=((dle/dge)**0.91)*((vge/vle)**0.19)*((1-(vge/vle))**0.7)\n",
    "    F=(x**0.78)*((1-x)**0.224)\n",
    "    Rel=mtv*dh/vle\n",
    "    Reg=mtv*dh/vge\n",
    "    fle=0.079/Rel\n",
    "    fge=0.079/Reg\n",
    "    E=((1-x)**2)+((x**2)*dle*fge/(dge*fle))\n",
    "    Frh=(mtv**2)/(9.81*dh*(rho_h**2))\n",
    "    phi_Lo2=E+(3.24*F*H/((Frh**0.045)*(WeL**0.035)))\n",
    "    del_PL=4*fle*(1/dh)*(mtv**2)*(1/(2*dle))\n",
    "    del_Pf=del_PL*phi_Lo2*3\n",
    "    \n",
    "    #Momentum\n",
    "    VF=(x/dge)*((((1+0.12*(1-x))*((x/dge)+((1-x)/dle)))+(1.18*(1-x)*((9.81*STle*(dle-dge))**0.25)/(mtv*mtv*(dle**(0.5)))))**(-1))\n",
    "    del_Pm=mtv*mtv*((1/(dge*VF))-(1/(dle*(1-VF))))\n",
    "    \n",
    "    del_P=del_Pf+del_Pm\n",
    "    \n",
    "    data={ ' quality  ': x,'del_P':del_P}\n",
    "    df=pd.DataFrame(data=data)\n",
    "    print(df)\n",
    "\n",
    "del_P=del_Pm[19]+del_Pf[19]\n",
    "P8new=P8+del_P\n",
    "T8new=PropsSI('T','P',P8new,'Q',1,'Toluene')\n",
    "P8=PropsSI('P','T',463,'Q',1,'Toluene')\n",
    "print(P8,P8new,T8new)"
   ]
  },
  {
   "cell_type": "code",
   "execution_count": 5,
   "metadata": {},
   "outputs": [
    {
     "name": "stderr",
     "output_type": "stream",
     "text": [
      "<ipython-input-5-64e316738e9e>:25: RuntimeWarning: divide by zero encountered in true_divide\n",
      "  del_Pm=mtv*mtv*((1/(dgc*VF))-(1/(dlc*(1-VF))))\n"
     ]
    },
    {
     "name": "stdout",
     "output_type": "stream",
     "text": [
      "     quality           del_P\n",
      "0         0.00           inf\n",
      "1         0.05  3.236048e+05\n",
      "2         0.10  8.201622e+04\n",
      "3         0.15  3.663880e+04\n",
      "4         0.20  2.069625e+04\n",
      "5         0.25  1.330747e+04\n",
      "6         0.30  9.291638e+03\n",
      "7         0.35  6.869146e+03\n",
      "8         0.40  5.295684e+03\n",
      "9         0.45  4.215434e+03\n",
      "10        0.50  3.440890e+03\n",
      "11        0.55  2.865579e+03\n",
      "12        0.60  2.425313e+03\n",
      "13        0.65  2.079386e+03\n",
      "14        0.70  1.800734e+03\n",
      "15        0.75  1.570367e+03\n",
      "16        0.80  1.373757e+03\n",
      "17        0.85  1.197487e+03\n",
      "18        0.90  1.022288e+03\n",
      "19        0.95  7.831702e+02\n",
      "45000 45783.17015750846 357.96850522342686\n"
     ]
    }
   ],
   "source": [
    "# Condenser\n",
    "\n",
    "x=0\n",
    "for x in [np.arange(x,1,0.05)]:\n",
    "    #mtv=mt*(dle+dge)\n",
    "    #Friction\n",
    "    rho_h=((x/dgc)+((1-x)/dlc))**(-1)\n",
    "    mtv=mt*rho_h\n",
    "    #print(mtv,mt*rho_h)\n",
    "    WeL=(mtv**2)*dh/(rho_h*STlc)\n",
    "    H=((dlc/dgc)**0.91)*((vgc/vlc)**0.19)*((1-(vgc/vlc))**0.7)\n",
    "    F=(x**0.78)*((1-x)**0.224)\n",
    "    Rel=mtv*dh/vlc\n",
    "    Reg=mtv*dh/vgc\n",
    "    flc=0.079/Rel\n",
    "    fgc=0.079/Reg\n",
    "    E=((1-x)**2)+((x**2)*dlc*fgc/(dgc*flc))\n",
    "    Frh=(mtv**2)/(9.81*dh*(rho_h**2))\n",
    "    phi_Lo2=E+(3.24*F*H/((Frh**0.045)*(WeL**0.035)))\n",
    "    del_PL=4*flc*(1/dh)*(mtv**2)*(1/(2*dlc))\n",
    "    del_Pf=del_PL*phi_Lo2*10\n",
    "    \n",
    "    #Momentum\n",
    "    VF=(x/dgc)*((((1+0.12*(1-x))*((x/dgc)+((1-x)/dlc)))+(1.18*(1-x)*((9.81*STlc*(dlc-dgc))**0.25)/(mtv*mtv*(dlc**(0.5)))))**(-1))\n",
    "    del_Pm=mtv*mtv*((1/(dgc*VF))-(1/(dlc*(1-VF))))\n",
    "       \n",
    "    del_P=del_Pf+del_Pm\n",
    "    \n",
    "    data={ ' quality  ': x,'del_P':del_P}\n",
    "    df=pd.DataFrame(data=data)\n",
    "    print(df)\n",
    "\n",
    "del_P=del_Pm[19]+del_Pf[19]\n",
    "P3=P4\n",
    "P3new=P3+del_P\n",
    "T3new=PropsSI('T','P',P3new,'Q',1,'Toluene')\n",
    "T3=PropsSI('T','P',P3,'Q',1,'Toluene')\n",
    "print(P3,P3new,T3new)"
   ]
  },
  {
   "cell_type": "code",
   "execution_count": 6,
   "metadata": {},
   "outputs": [
    {
     "name": "stdout",
     "output_type": "stream",
     "text": [
      "he_m 10694.308714197665\n"
     ]
    }
   ],
   "source": [
    "#Evaporator Motinski heat transfer coefficient correlation\n",
    "\n",
    "h8new=PropsSI('H','T',T8new,'Q',1,'Toluene')\n",
    "h7=PropsSI('H','T',T7,'Q',0,'Toluene')\n",
    "LHEnew=h8new-h7\n",
    "Pcrit=CP.PropsSI(\"Pcrit\",\"Toluene\")\n",
    "q=(mt*LHEnew)/(deq*we)\n",
    "Pratio=P8new/Pcrit\n",
    "Fp=(1.8*(Pratio**0.17))+(4*(Pratio**1.2))+(10*(Pratio**10))\n",
    "he_m=0.00417*Fp*(Pcrit**0.69)*(q**0.7)/10e4\n",
    "print(\"he_m\",he_m)"
   ]
  },
  {
   "cell_type": "code",
   "execution_count": 7,
   "metadata": {},
   "outputs": [
    {
     "name": "stdout",
     "output_type": "stream",
     "text": [
      "A_EVA 109.64970198751246\n"
     ]
    }
   ],
   "source": [
    "# Area of evaporator\n",
    "\n",
    "#OVERALL HEAT TRANSFER COEFFICIENT\n",
    "U=((1/hex)+(1/(he_m*1000))+0.0009)**-1\n",
    "\n",
    "#LMTD\n",
    "LMTD=((T10-T8new)-(T11-T7))/(math.log((T10-T8new)/(T11-T7)))\n",
    "\n",
    "#HEAT TRANSFER\n",
    "Q=mt*LHEnew\n",
    "\n",
    "#AREA\n",
    "A_EVA=(Q)/(LMTD*U)\n",
    "\n",
    "print(\"A_EVA\",A_EVA)\n",
    "\n"
   ]
  },
  {
   "cell_type": "code",
   "execution_count": 9,
   "metadata": {},
   "outputs": [
    {
     "name": "stdout",
     "output_type": "stream",
     "text": [
      "hc_m 6405.033685028932\n",
      "h_water 6491318.96122219\n",
      "Q 8713403.844767472\n",
      "LMTD 28.24912809118657\n",
      "U 1351.0571338519712\n",
      "A_cond 228.30166570227848\n",
      "460.7968009382373 598652.1730378986 357.96850522342686 45783.17015750846\n"
     ]
    }
   ],
   "source": [
    "#Condenser Motinski heat transfer coefficient correlation\n",
    "\n",
    "h3new=PropsSI('H','T',T3new,'Q',1,'Toluene')\n",
    "h4=PropsSI('H','T',T4,'Q',0,'Toluene')\n",
    "LHCnew=h3new-h4\n",
    "Pcrit=CP.PropsSI(\"Pcrit\",\"Toluene\")\n",
    "q=(mt*LHCnew)/(deq*we)\n",
    "Pratio=P3new/Pcrit\n",
    "Fp=(1.8*(Pratio**0.17))+(4*(Pratio**1.2))+(10*(Pratio**10))\n",
    "hc_m=0.00417*Fp*(Pcrit**0.69)*(q**0.7)/10e4\n",
    "print(\"hc_m\",hc_m)\n",
    "\n",
    "# FIND HEAT TRANSFER COEFFICIENT FROM WATER SIDE\n",
    "Gw=(mw)/(b*we)\n",
    "Rew=(Gw*deq)/vw\n",
    "h_water=(0.724*(kw/dh)*(((6*B)/math.pi)**0.646)*(Rew**0.583)*(prw**0.33))\n",
    "print('h_water',h_water)\n",
    "\n",
    "# Area of condenser\n",
    "\n",
    "Q=mt*LHCnew\n",
    "print('Q',Q)\n",
    "#3.LMTD\n",
    "LMTD=((T4-T13)-(T3new-T14))/(math.log((T4-T13)/(T3new-T14)))\n",
    "print('LMTD',LMTD)\n",
    "#4. OVERALL HEAT TRANSFER COEFFICIENT\n",
    "U=((1/(hc_m*22000))+(1/h_water)+0.00074)**-1\n",
    "print('U',U)\n",
    "#5.Area\n",
    "A_cond=(Q)/(U*LMTD)\n",
    "print('A_cond',A_cond)\n",
    "print(T8new,P8new,T3new,P3new)"
   ]
  },
  {
   "cell_type": "code",
   "execution_count": null,
   "metadata": {},
   "outputs": [],
   "source": []
  }
 ],
 "metadata": {
  "kernelspec": {
   "display_name": "Python 3",
   "language": "python",
   "name": "python3"
  },
  "language_info": {
   "codemirror_mode": {
    "name": "ipython",
    "version": 3
   },
   "file_extension": ".py",
   "mimetype": "text/x-python",
   "name": "python",
   "nbconvert_exporter": "python",
   "pygments_lexer": "ipython3",
   "version": "3.8.5"
  }
 },
 "nbformat": 4,
 "nbformat_minor": 4
}
